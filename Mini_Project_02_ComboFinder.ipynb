{
  "nbformat": 4,
  "nbformat_minor": 0,
  "metadata": {
    "colab": {
      "provenance": [],
      "authorship_tag": "ABX9TyMT4/Ohfc8+RHbTW5lcX+C4",
      "include_colab_link": true
    },
    "kernelspec": {
      "name": "python3",
      "display_name": "Python 3"
    },
    "language_info": {
      "name": "python"
    }
  },
  "cells": [
    {
      "cell_type": "markdown",
      "metadata": {
        "id": "view-in-github",
        "colab_type": "text"
      },
      "source": [
        "<a href=\"https://colab.research.google.com/github/khushiarora1793/Mini_Projects/blob/main/Mini_Project_02_ComboFinder.ipynb\" target=\"_parent\"><img src=\"https://colab.research.google.com/assets/colab-badge.svg\" alt=\"Open In Colab\"/></a>"
      ]
    },
    {
      "cell_type": "markdown",
      "source": [
        "\n",
        "Problem Statement:\n",
        "Find all the list of products whose sum-of-price is between 290 and 310.\n",
        "\n",
        "ProductList = {p1:10, p2:15, p3:20, p4:25, p5:30, p6:35, p7:50}"
      ],
      "metadata": {
        "id": "-iGs6Fc9h6cW"
      }
    },
    {
      "cell_type": "code",
      "source": [
        "import random as r\n",
        "ProductList = {'p1':10, 'p2':15, 'p3':20, 'p4':25, 'p5':30, 'p6':35, 'p7':50}\n",
        "Lb = 290\n",
        "Ub = 310\n",
        "Resultlist = set()\n",
        "iterations = 100\n",
        "for i in range(iterations):\n",
        "   Setsize = r.randint(2, len(ProductList)-1)\n",
        "   x = r.sample(list(ProductList.keys()),Setsize)\n",
        "   Combosum = sum([ ProductList[i] for i in x])\n",
        "   if Combosum >= Lb and Combosum <= Ub :\n",
        "     Resultlist.add(tuple(x))\n",
        "for i in Resultlist:\n",
        "  print(i)\n",
        "print(\"Number of combinations:\" , len(Resultlist))\n"
      ],
      "metadata": {
        "colab": {
          "base_uri": "https://localhost:8080/"
        },
        "id": "MbjOrdQpkB94",
        "outputId": "1d56af49-072f-41f4-8d8f-85b2e029f025"
      },
      "execution_count": 40,
      "outputs": [
        {
          "output_type": "stream",
          "name": "stdout",
          "text": [
            "Number of combinations: 0\n"
          ]
        }
      ]
    }
  ]
}