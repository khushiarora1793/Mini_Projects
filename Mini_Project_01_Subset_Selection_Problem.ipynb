{
  "nbformat": 4,
  "nbformat_minor": 0,
  "metadata": {
    "colab": {
      "provenance": [],
      "authorship_tag": "ABX9TyMB3XTUe4H7zLdbT/UJQCsJ",
      "include_colab_link": true
    },
    "kernelspec": {
      "name": "python3",
      "display_name": "Python 3"
    },
    "language_info": {
      "name": "python"
    }
  },
  "cells": [
    {
      "cell_type": "markdown",
      "metadata": {
        "id": "view-in-github",
        "colab_type": "text"
      },
      "source": [
        "<a href=\"https://colab.research.google.com/github/khushiarora1793/Mini_Projects/blob/main/Mini_Project_01_Subset_Selection_Problem.ipynb\" target=\"_parent\"><img src=\"https://colab.research.google.com/assets/colab-badge.svg\" alt=\"Open In Colab\"/></a>"
      ]
    },
    {
      "cell_type": "markdown",
      "source": [
        "Problem Statement:\n",
        "Find all the subsets from a set of numbers whose sum is zero.\n",
        "\n",
        "Constraint: Subset size must be 5\n",
        "Set={-12, -3, -6, 7, 2, -2, 6, 3, 9, -7, -5, -8, 1, 11, -9, -4}"
      ],
      "metadata": {
        "id": "epBA1RjzcRcP"
      }
    },
    {
      "cell_type": "code",
      "source": [
        "import random as r\n",
        "Set = set([-12, -3, -6, 7, 2, -2, 6, 3, 9, -7, -5, -8, 1, 11, -9, -4])\n",
        "Setsize = 5\n",
        "Resultset = set()\n",
        "Iterations = 1000\n",
        "for i in range(Iterations):\n",
        "   x = r.sample(Set,Setsize)\n",
        "   if sum(x) == 0:\n",
        "     Resultset.add(tuple(x))\n",
        "for i in Resultset:\n",
        " print(i)\n",
        "print(\"Total number of subsets:\" , len(Resultset))\n"
      ],
      "metadata": {
        "colab": {
          "base_uri": "https://localhost:8080/"
        },
        "id": "S7KLkaQCcY1Z",
        "outputId": "dde35397-8893-4f9a-c4a1-22bd76192baa"
      },
      "execution_count": 16,
      "outputs": [
        {
          "output_type": "stream",
          "name": "stdout",
          "text": [
            "(11, -6, -4, -2, 1)\n",
            "(-12, 11, 3, 2, -4)\n",
            "(-7, 3, -12, 7, 9)\n",
            "(2, 9, -8, 3, -6)\n",
            "(-3, -4, -6, 6, 7)\n",
            "(9, 1, 6, -7, -9)\n",
            "(2, -9, 7, 3, -3)\n",
            "(-5, 11, -12, 9, -3)\n",
            "(11, -2, -7, -8, 6)\n",
            "(2, -2, -4, -3, 7)\n",
            "(-2, -4, -3, 6, 3)\n",
            "(11, 2, -8, 7, -12)\n",
            "(-6, 2, -2, 11, -5)\n",
            "(-3, -9, 9, 7, -4)\n",
            "(7, 11, -9, -7, -2)\n",
            "(11, -6, 6, -8, -3)\n",
            "(6, -3, -6, 11, -8)\n",
            "(7, 2, -4, 3, -8)\n",
            "(-6, 9, -2, -8, 7)\n",
            "(-2, 3, -3, 11, -9)\n",
            "(-9, -4, 9, 6, -2)\n",
            "(9, -4, 11, -7, -9)\n",
            "(1, 11, -2, -4, -6)\n",
            "(-5, -7, 7, 3, 2)\n",
            "(-6, 7, -8, 1, 6)\n",
            "(11, -6, -5, 7, -7)\n",
            "(-6, 3, 7, 1, -5)\n",
            "(3, 11, 1, -7, -8)\n",
            "(-9, 6, 7, 2, -6)\n",
            "(-2, 7, -6, -8, 9)\n",
            "(11, -6, -9, -2, 6)\n",
            "Total number of subsets: 31\n"
          ]
        },
        {
          "output_type": "stream",
          "name": "stderr",
          "text": [
            "<ipython-input-16-34a19ff043f2>:7: DeprecationWarning: Sampling from a set deprecated\n",
            "since Python 3.9 and will be removed in a subsequent version.\n",
            "  x = r.sample(Set,Setsize)\n"
          ]
        }
      ]
    }
  ]
}